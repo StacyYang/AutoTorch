{
  "cells": [
    {
      "cell_type": "code",
      "execution_count": null,
      "metadata": {
        "collapsed": false
      },
      "outputs": [],
      "source": [
        "%matplotlib inline"
      ]
    },
    {
      "cell_type": "markdown",
      "metadata": {},
      "source": [
        "\nQuick Start with PyTorch\n========================\n\nIn this tutorial, we demonstrate how to do Hyperparameter Optimization (HPO) using AutoTorch with PyTorch.\nAutoTorch is a framework agnostic HPO toolkit, which is compatible with any training code written in python. The code used in this tutorial is adapted from `this git repo <https://github.com/kuangliu/pytorch-cifar>`_. In your applications, this code can be replaced with your own PyTorch code.\n\nImport the packages:\n"
      ]
    },
    {
      "cell_type": "code",
      "execution_count": null,
      "metadata": {
        "collapsed": false
      },
      "outputs": [],
      "source": [
        "import torch\nimport torch.nn as nn\nimport torch.nn.functional as F\n\nimport torchvision\nimport torchvision.transforms as transforms\nfrom tqdm.auto import tqdm"
      ]
    },
    {
      "cell_type": "markdown",
      "metadata": {},
      "source": [
        "Start with an MNIST Example\n---------------------------\n\n- Data Transforms\n\nWe first apply standard image transforms to our training and validation data:\n\n"
      ]
    },
    {
      "cell_type": "code",
      "execution_count": null,
      "metadata": {
        "collapsed": false
      },
      "outputs": [],
      "source": [
        "transform = transforms.Compose([\n   transforms.ToTensor(),\n   transforms.Normalize((0.1307,), (0.3081,))\n])\n\n# get the datasets\ntrainset = torchvision.datasets.MNIST(root='./data', train=True, download=True, transform=transform)\ntestset = torchvision.datasets.MNIST(root='./data', train=False, download=True, transform=transform)"
      ]
    },
    {
      "cell_type": "markdown",
      "metadata": {},
      "source": [
        "- Main Training Loop\n\nThe following `train_mnist` function represents normal training code a user would write for training on MNIST dataset. Python users typically use an argparser to conveniently\nchange default values. The only additional argument you need to add to your existing python function is a reporter object that is used to store performance achieved under different hyperparameter settings.\n\n"
      ]
    },
    {
      "cell_type": "code",
      "execution_count": null,
      "metadata": {
        "collapsed": false
      },
      "outputs": [],
      "source": [
        "def train_mnist(args, reporter):\n    # get variables from args\n    lr = args.lr\n    wd = args.wd\n    epochs = args.epochs\n    net = args.net\n    print('lr: {}, wd: {}'.format(lr, wd))\n\n    device = 'cuda' if torch.cuda.is_available() else 'cpu'\n    # Model\n    net = net.to(device)\n\n    if device == 'cuda':\n        net = nn.DataParallel(net)\n    criterion = nn.CrossEntropyLoss()\n    optimizer = torch.optim.SGD(net.parameters(), lr=args.lr, momentum=0.9, weight_decay=wd)\n\n    # datasets and dataloaders\n    trainset = torchvision.datasets.MNIST(root='./data', train=True, download=False, transform=transform)\n    trainloader = torch.utils.data.DataLoader(trainset, batch_size=128, shuffle=True, num_workers=2)\n\n    testset = torchvision.datasets.MNIST(root='./data', train=False, download=False, transform=transform)\n    testloader = torch.utils.data.DataLoader(testset, batch_size=128, shuffle=False, num_workers=2)\n\n    # Training\n    def train(epoch):\n        net.train()\n        train_loss, correct, total = 0, 0, 0\n        for batch_idx, (inputs, targets) in enumerate(trainloader):\n            inputs, targets = inputs.to(device), targets.to(device)\n            optimizer.zero_grad()\n            outputs = net(inputs)\n            loss = criterion(outputs, targets)\n            loss.backward()\n            optimizer.step()\n\n    def test(epoch):\n        net.eval()\n        test_loss, correct, total = 0, 0, 0\n        with torch.no_grad():\n            for batch_idx, (inputs, targets) in enumerate(testloader):\n                inputs, targets = inputs.to(device), targets.to(device)\n                outputs = net(inputs)\n                loss = criterion(outputs, targets)\n\n                test_loss += loss.item()\n                _, predicted = outputs.max(1)\n                total += targets.size(0)\n                correct += predicted.eq(targets).sum().item()\n\n        acc = 100.*correct/total\n        reporter(epoch=epoch, accuracy=acc)\n\n    for epoch in tqdm(range(0, epochs)):\n        train(epoch)\n        test(epoch)"
      ]
    },
    {
      "cell_type": "markdown",
      "metadata": {},
      "source": [
        "AutoTorch HPO\n-------------\n\nIn this section, we cover how to define a searchable network architecture, convert the training function to be searchable, create the scheduler, and then launch the experiment.\n- Define a Searchable Network Achitecture\n\nLet's define a 'dynamic' network with searchable configurations by simply adding a decorator :func:`autotorch.obj`. In this example, we only search two arguments `hidden_conv` and `hidden_fc`, which represent the hidden channels in convolutional layer and fully connected layer.  More info about searchable space is available at :meth:`autotorch.space`.\n\n"
      ]
    },
    {
      "cell_type": "code",
      "execution_count": null,
      "metadata": {
        "collapsed": false
      },
      "outputs": [],
      "source": [
        "import autotorch as at\n\n@at.obj(\n    hidden_conv=at.Int(6, 12),\n    hidden_fc=at.Choice(80, 120, 160),\n)\nclass Net(nn.Module):\n    def __init__(self, hidden_conv, hidden_fc):\n        super().__init__()\n        self.conv1 = nn.Conv2d(1, hidden_conv, 5)\n        self.pool = nn.MaxPool2d(2, 2)\n        self.conv2 = nn.Conv2d(hidden_conv, 16, 5)\n        self.fc1 = nn.Linear(16 * 4 * 4, hidden_fc)\n        self.fc2 = nn.Linear(hidden_fc, 84)\n        self.fc3 = nn.Linear(84, 10)\n\n    def forward(self, x):\n        x = self.pool(F.relu(self.conv1(x)))\n        x = self.pool(F.relu(self.conv2(x)))\n        x = x.view(-1, 16 * 4 * 4)\n        x = F.relu(self.fc1(x))\n        x = F.relu(self.fc2(x))\n        x = self.fc3(x)\n        return x"
      ]
    },
    {
      "cell_type": "markdown",
      "metadata": {},
      "source": [
        "- Convert the Training Function to Be Searchable\n\nWe can simply add a decorator :func:`autotorch.args` to convert the `train_mnist` function argument values to be tuned by AutoTorch's hyperparameter optimizer. In the example below, we specify that the lr argument is a real-value that should be searched on a log-scale in the range 0.01 - 0.2. Before passing lr to your train function, AutoTorch always selects an actual floating point value to assign to lr so you do not need to make any special modifications to your existing code to accommodate the hyperparameter search.\n\n"
      ]
    },
    {
      "cell_type": "code",
      "execution_count": null,
      "metadata": {
        "collapsed": false
      },
      "outputs": [],
      "source": [
        "@at.args(\n    lr = at.Real(0.01, 0.2, log=True),\n    wd = at.Real(1e-4, 5e-4, log=True),\n    net = Net(),\n    epochs=5,\n)\ndef at_train_mnist(args, reporter):\n    return train_mnist(args, reporter)"
      ]
    },
    {
      "cell_type": "markdown",
      "metadata": {},
      "source": [
        "- Create the Scheduler and Launch the Experiment\n\n"
      ]
    },
    {
      "cell_type": "code",
      "execution_count": null,
      "metadata": {
        "collapsed": false
      },
      "outputs": [],
      "source": [
        "scheduler = at.scheduler.FIFOScheduler(at_train_mnist,\n                                         resource={'num_cpus': 4, 'num_gpus': 1},\n                                         num_trials=2,\n                                         time_attr='epoch',\n                                         reward_attr=\"accuracy\")\nprint(scheduler)\n\n\nscheduler.run()\nscheduler.join_jobs()"
      ]
    },
    {
      "cell_type": "markdown",
      "metadata": {},
      "source": [
        "We plot the test accuracy achieved over the course of training under each hyperparameter configuration that AutoTorch tried out (represented as different colors).\n\n"
      ]
    },
    {
      "cell_type": "code",
      "execution_count": null,
      "metadata": {
        "collapsed": false
      },
      "outputs": [],
      "source": [
        "scheduler.get_training_curves(plot=True,use_legend=False)\nprint('The Best Configuration and Accuracy are: {}, {}'.format(scheduler.get_best_config(),\n                                                               scheduler.get_best_reward()))"
      ]
    }
  ],
  "metadata": {
    "kernelspec": {
      "display_name": "Python 3",
      "language": "python",
      "name": "python3"
    },
    "language_info": {
      "codemirror_mode": {
        "name": "ipython",
        "version": 3
      },
      "file_extension": ".py",
      "mimetype": "text/x-python",
      "name": "python",
      "nbconvert_exporter": "python",
      "pygments_lexer": "ipython3",
      "version": "3.7.6"
    }
  },
  "nbformat": 4,
  "nbformat_minor": 0
}
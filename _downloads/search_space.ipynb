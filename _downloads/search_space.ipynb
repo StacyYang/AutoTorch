{
  "cells": [
    {
      "cell_type": "code",
      "execution_count": null,
      "metadata": {
        "collapsed": false
      },
      "outputs": [],
      "source": [
        "%matplotlib inline"
      ]
    },
    {
      "cell_type": "markdown",
      "metadata": {},
      "source": [
        "\nSearch Space and Decorator\n==========================\n\nThis tutorial explains the supported search spaces and how to use them, including\nsimple search spaces (Int, Real, Bool and Choice) and nested search spaces\n(Choice, List, Dict). Each search space describes the set of possible values for a hyperparameter, from which the searcher will try particular values during hyperparameter optimization. AutoTorch also enables search spaces in user-defined objects using the decorator\n`at.obj` and user-defined functions using the decorator `at.func`.\n"
      ]
    },
    {
      "cell_type": "code",
      "execution_count": null,
      "metadata": {
        "collapsed": false
      },
      "outputs": [],
      "source": [
        "import autotorch as at"
      ]
    },
    {
      "cell_type": "markdown",
      "metadata": {},
      "source": [
        "Search Space\n------------\nSimple Search Space\n~~~~~~~~~~~~~~~~~~~\n- Integer Space :class:`autotorch.space.Int`\n\nAn integer is chosen between lower and upper value during the searcher sampling.\n\n"
      ]
    },
    {
      "cell_type": "code",
      "execution_count": null,
      "metadata": {
        "collapsed": false
      },
      "outputs": [],
      "source": [
        "a = at.Int(lower=0, upper=10)\nprint(a)"
      ]
    },
    {
      "cell_type": "markdown",
      "metadata": {},
      "source": [
        "Get default value:\n\n"
      ]
    },
    {
      "cell_type": "code",
      "execution_count": null,
      "metadata": {
        "collapsed": false
      },
      "outputs": [],
      "source": [
        "print(a.default)"
      ]
    },
    {
      "cell_type": "markdown",
      "metadata": {},
      "source": [
        "Change default value, which is the first configuration that a random searcher\n:class:`autotorch.searcher.RandomSearcher` will try:\n\n"
      ]
    },
    {
      "cell_type": "code",
      "execution_count": null,
      "metadata": {
        "collapsed": false
      },
      "outputs": [],
      "source": [
        "a = at.Int(lower=0, upper=10, default=2)\nprint(a.default)"
      ]
    },
    {
      "cell_type": "markdown",
      "metadata": {},
      "source": [
        "Pick a random value.\n\n"
      ]
    },
    {
      "cell_type": "code",
      "execution_count": null,
      "metadata": {
        "collapsed": false
      },
      "outputs": [],
      "source": [
        "print(a.rand)"
      ]
    },
    {
      "cell_type": "markdown",
      "metadata": {},
      "source": [
        "- Real Space :class:`autotorch.space.Real`\n\nA real number is chosen between lower and upper value during the\nsearcher sampling.\n\n"
      ]
    },
    {
      "cell_type": "code",
      "execution_count": null,
      "metadata": {
        "collapsed": false
      },
      "outputs": [],
      "source": [
        "b = at.Real(lower=1e-4, upper=1e-2)\nprint(b)"
      ]
    },
    {
      "cell_type": "markdown",
      "metadata": {},
      "source": [
        "Real space in log scale:\n\n"
      ]
    },
    {
      "cell_type": "code",
      "execution_count": null,
      "metadata": {
        "collapsed": false
      },
      "outputs": [],
      "source": [
        "c = at.Real(lower=1e-4, upper=1e-2, log=True)\nprint(c)"
      ]
    },
    {
      "cell_type": "markdown",
      "metadata": {},
      "source": [
        "- Choice Space :class:`autotorch.space.Choice`\n\nChoice Space chooses one value from all the possible values during the searcher sampling.\n\n"
      ]
    },
    {
      "cell_type": "code",
      "execution_count": null,
      "metadata": {
        "collapsed": false
      },
      "outputs": [],
      "source": [
        "d = at.Choice('Monday', 'Tuesday', 'Wednesday')\nprint(d)"
      ]
    },
    {
      "cell_type": "markdown",
      "metadata": {},
      "source": [
        "Nested Search Space\n~~~~~~~~~~~~~~~~~~~\n- Choice Space :class:`autotorch.space.Choice`\n\nChoice Space can also be used as a nested search space.\nFor an example, see NestedExampleObj_.\n\n- List Space :class:`autotorch.space.List`\n\nList Space returns a list of sampled results.\nIn this example, the first element of the list is a Int Space sampled\nfrom 0 to 3, and the second element is a Choice Space sampled from the choices of `'alpha'` and `'beta'`.\n\n"
      ]
    },
    {
      "cell_type": "code",
      "execution_count": null,
      "metadata": {
        "collapsed": false
      },
      "outputs": [],
      "source": [
        "f = at.List(\n        at.Int(0, 3),\n        at.Choice('alpha', 'beta'),\n    )\nprint(f)"
      ]
    },
    {
      "cell_type": "markdown",
      "metadata": {},
      "source": [
        "Get one example configuration:\n\n"
      ]
    },
    {
      "cell_type": "code",
      "execution_count": null,
      "metadata": {
        "collapsed": false
      },
      "outputs": [],
      "source": [
        "print(f.rand)"
      ]
    },
    {
      "cell_type": "markdown",
      "metadata": {},
      "source": [
        "- Dict Space :class:`autotorch.space.Dict`\n\nDict Space returns a dict of sampled results.\nSimilar to List Space, the resulting configuraton of Dict is\na dict. In this example, the value of `'key1'` is sampled from\na Choice Space with the choices of `'alpha'` and `'beta'`,\nand the value of `'key2'` is sampled from an Int Space between\n0 and 3.\n\n"
      ]
    },
    {
      "cell_type": "code",
      "execution_count": null,
      "metadata": {
        "collapsed": false
      },
      "outputs": [],
      "source": [
        "g = at.Dict(\n        key1=at.Choice('alpha', 'beta'),\n        key2=at.Int(0, 3),\n        key3='constant'\n    )\nprint(g)"
      ]
    },
    {
      "cell_type": "markdown",
      "metadata": {},
      "source": [
        "Get one example configuration:\n\n"
      ]
    },
    {
      "cell_type": "code",
      "execution_count": null,
      "metadata": {
        "collapsed": false
      },
      "outputs": [],
      "source": [
        "print(g.rand)"
      ]
    },
    {
      "cell_type": "markdown",
      "metadata": {},
      "source": [
        "Decorators for Searchbale Object and Customized Training Scripts\n----------------------------------------------------------------\nIn this section, we show how to insert search space into customized objects and training functions.\n\n"
      ]
    },
    {
      "cell_type": "markdown",
      "metadata": {},
      "source": [
        "- Searchable Space in Customized Class :func:`autotorch.obj`\n\nIn AutoTorch searchable object can be returned by a user defined class with a decorator.\n\n"
      ]
    },
    {
      "cell_type": "code",
      "execution_count": null,
      "metadata": {
        "collapsed": false
      },
      "outputs": [],
      "source": [
        "@at.obj(\n    name=at.Choice('auto', 'gluon'),\n    static_value=10,\n    rank=at.Int(2, 5),\n)\nclass MyObj:\n    def __init__(self, name, rank, static_value):\n        self.name = name\n        self.rank = rank\n        self.static_value = static_value\n    def __repr__(self):\n        repr = 'MyObj -- name: {}, rank: {}, static_value: {}'.format(\n                self.name, self.rank, self.static_value)\n        return repr\nh = MyObj()\nprint(h)"
      ]
    },
    {
      "cell_type": "markdown",
      "metadata": {},
      "source": [
        "Get one example random object:\n\n"
      ]
    },
    {
      "cell_type": "code",
      "execution_count": null,
      "metadata": {
        "collapsed": false
      },
      "outputs": [],
      "source": [
        "print(h.rand)"
      ]
    },
    {
      "cell_type": "markdown",
      "metadata": {},
      "source": [
        "We can also use it within a Nested Space such as :class:`autotorch.space.Choice`.\nIn this example, the resulting nested space will be sampled from: \n\n"
      ]
    },
    {
      "cell_type": "code",
      "execution_count": null,
      "metadata": {
        "collapsed": false
      },
      "outputs": [],
      "source": [
        "nested = at.Choice(\n        at.Dict(\n                obj1='1',\n                obj2=at.Choice('a', 'b'),\n            ),\n        MyObj(),\n    )\n\nprint(nested)"
      ]
    },
    {
      "cell_type": "markdown",
      "metadata": {},
      "source": [
        "Get an example output:\n\n"
      ]
    },
    {
      "cell_type": "code",
      "execution_count": null,
      "metadata": {
        "collapsed": false
      },
      "outputs": [],
      "source": [
        "for _ in range(5):\n    result = nested.rand\n    assert (isinstance(result, dict) and result['obj2'] in ['a', 'b']) or hasattr(result, 'name')\n    print(result)"
      ]
    },
    {
      "cell_type": "markdown",
      "metadata": {},
      "source": [
        "- Searchable Space in Customized Function :func:`autotorch.obj`\n\nWe can also insert a searchable space in a customized function:\n\n"
      ]
    },
    {
      "cell_type": "code",
      "execution_count": null,
      "metadata": {
        "collapsed": false
      },
      "outputs": [],
      "source": [
        "@at.func(\n    framework=at.Choice('mxnet', 'pytorch'),\n)\ndef myfunc(framework):\n    return framework\ni = myfunc()\nprint(i)"
      ]
    },
    {
      "cell_type": "markdown",
      "metadata": {},
      "source": [
        "We can also put a searchable space inside a nested space:\n\n\n"
      ]
    },
    {
      "cell_type": "code",
      "execution_count": null,
      "metadata": {
        "collapsed": false
      },
      "outputs": [],
      "source": [
        "j = at.Dict(\n        a=at.Real(0, 10),\n        obj1=MyObj(),\n        obj2=myfunc(),\n    )\nprint(j)"
      ]
    },
    {
      "cell_type": "markdown",
      "metadata": {},
      "source": [
        "- Customized Train Script Using :func:`autotorch.args`\n\n`train_func` is where to put your model training script, which takes in various keyword `args` as its hyperparameters and reports the performance of the trained model using the provided `reporter`. Here, we show a dummy train_func that simply prints these objects.\n\n\n"
      ]
    },
    {
      "cell_type": "code",
      "execution_count": null,
      "metadata": {
        "collapsed": false
      },
      "outputs": [],
      "source": [
        "@at.args(\n    a=at.Int(1, 10),\n    b=at.Real(1e-3, 1e-2),\n    c=at.Real(1e-3, 1e-2, log=True),\n    d=at.Choice('a', 'b', 'c', 'd'),\n    e=at.Bool(),\n    f=at.List(\n            at.Int(1, 2),\n            at.Choice(4, 5),\n        ),\n    g=at.Dict(\n            a=at.Real(0, 10),\n            obj=MyObj(),\n        ),\n    h=at.Choice('test', MyObj()),\n    i = myfunc(),\n)\ndef train_fn(args, reporter):\n    print('args: {}'.format(args))"
      ]
    },
    {
      "cell_type": "markdown",
      "metadata": {},
      "source": [
        "Create Searcher and Run with a Configuration\n--------------------------------------------\nIn this section, we create a Searcher object, which orchestrates a particular hyperparameter-tuning strategy.\n\n- Create a Searcher and Sample Configuration\n\n\n"
      ]
    },
    {
      "cell_type": "code",
      "execution_count": null,
      "metadata": {
        "collapsed": false
      },
      "outputs": [],
      "source": [
        "searcher = at.searcher.RandomSearcher(train_fn.cs)\nconfig = searcher.get_config()\nprint(config)"
      ]
    },
    {
      "cell_type": "markdown",
      "metadata": {},
      "source": [
        "- Run one training job with the sampled configuration:\n\n\n"
      ]
    },
    {
      "cell_type": "code",
      "execution_count": null,
      "metadata": {
        "collapsed": false
      },
      "outputs": [],
      "source": [
        "train_fn(train_fn.args, config)"
      ]
    }
  ],
  "metadata": {
    "kernelspec": {
      "display_name": "Python 3",
      "language": "python",
      "name": "python3"
    },
    "language_info": {
      "codemirror_mode": {
        "name": "ipython",
        "version": 3
      },
      "file_extension": ".py",
      "mimetype": "text/x-python",
      "name": "python",
      "nbconvert_exporter": "python",
      "pygments_lexer": "ipython3",
      "version": "3.7.6"
    }
  },
  "nbformat": 4,
  "nbformat_minor": 0
}